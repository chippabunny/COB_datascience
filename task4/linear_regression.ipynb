{
 "cells": [
  {
   "cell_type": "code",
   "execution_count": 1,
   "id": "4731023a",
   "metadata": {},
   "outputs": [],
   "source": [
    "import pandas as pd\n",
    "import numpy as np\n",
    "import seaborn as sns\n",
    "import matplotlib.pyplot as plt\n",
    "from sklearn.linear_model import LinearRegression"
   ]
  },
  {
   "cell_type": "code",
   "execution_count": 2,
   "id": "ce69af84",
   "metadata": {},
   "outputs": [],
   "source": [
    "train=pd.read_csv('train.csv')\n",
    "test=pd.read_csv('test.csv')"
   ]
  },
  {
   "cell_type": "code",
   "execution_count": 3,
   "id": "5618e2b8",
   "metadata": {},
   "outputs": [
    {
     "data": {
      "text/plain": [
       "x    0\n",
       "y    1\n",
       "dtype: int64"
      ]
     },
     "execution_count": 3,
     "metadata": {},
     "output_type": "execute_result"
    }
   ],
   "source": [
    "train.isnull().sum()"
   ]
  },
  {
   "cell_type": "code",
   "execution_count": 4,
   "id": "7efb5559",
   "metadata": {},
   "outputs": [],
   "source": [
    "train.dropna(inplace=True)"
   ]
  },
  {
   "cell_type": "code",
   "execution_count": 5,
   "id": "70a079dd",
   "metadata": {},
   "outputs": [
    {
     "data": {
      "text/plain": [
       "x    0\n",
       "y    0\n",
       "dtype: int64"
      ]
     },
     "execution_count": 5,
     "metadata": {},
     "output_type": "execute_result"
    }
   ],
   "source": [
    "train.isnull().sum()"
   ]
  },
  {
   "cell_type": "code",
   "execution_count": 6,
   "id": "330d1462",
   "metadata": {},
   "outputs": [
    {
     "data": {
      "text/plain": [
       "x    0\n",
       "y    0\n",
       "dtype: int64"
      ]
     },
     "execution_count": 6,
     "metadata": {},
     "output_type": "execute_result"
    }
   ],
   "source": [
    "test.isnull().sum()\n"
   ]
  },
  {
   "cell_type": "code",
   "execution_count": 7,
   "id": "11a11039",
   "metadata": {},
   "outputs": [],
   "source": [
    "x_train=np.array(train['x']).reshape(-1,1)\n",
    "y_train=np.array(train['y']).reshape(-1,1)\n",
    "x_test=np.array(test['x']).reshape(-1,1)\n",
    "y_test=np.array(test['y']).reshape(-1,1)\n",
    "\n",
    "\n",
    "\n",
    "model=LinearRegression()"
   ]
  },
  {
   "cell_type": "code",
   "execution_count": null,
   "id": "3fa9010d",
   "metadata": {},
   "outputs": [],
   "source": []
  },
  {
   "cell_type": "code",
   "execution_count": 8,
   "id": "9df88ef2",
   "metadata": {
    "scrolled": false
   },
   "outputs": [
    {
     "data": {
      "text/html": [
       "<style>#sk-container-id-1 {color: black;background-color: white;}#sk-container-id-1 pre{padding: 0;}#sk-container-id-1 div.sk-toggleable {background-color: white;}#sk-container-id-1 label.sk-toggleable__label {cursor: pointer;display: block;width: 100%;margin-bottom: 0;padding: 0.3em;box-sizing: border-box;text-align: center;}#sk-container-id-1 label.sk-toggleable__label-arrow:before {content: \"▸\";float: left;margin-right: 0.25em;color: #696969;}#sk-container-id-1 label.sk-toggleable__label-arrow:hover:before {color: black;}#sk-container-id-1 div.sk-estimator:hover label.sk-toggleable__label-arrow:before {color: black;}#sk-container-id-1 div.sk-toggleable__content {max-height: 0;max-width: 0;overflow: hidden;text-align: left;background-color: #f0f8ff;}#sk-container-id-1 div.sk-toggleable__content pre {margin: 0.2em;color: black;border-radius: 0.25em;background-color: #f0f8ff;}#sk-container-id-1 input.sk-toggleable__control:checked~div.sk-toggleable__content {max-height: 200px;max-width: 100%;overflow: auto;}#sk-container-id-1 input.sk-toggleable__control:checked~label.sk-toggleable__label-arrow:before {content: \"▾\";}#sk-container-id-1 div.sk-estimator input.sk-toggleable__control:checked~label.sk-toggleable__label {background-color: #d4ebff;}#sk-container-id-1 div.sk-label input.sk-toggleable__control:checked~label.sk-toggleable__label {background-color: #d4ebff;}#sk-container-id-1 input.sk-hidden--visually {border: 0;clip: rect(1px 1px 1px 1px);clip: rect(1px, 1px, 1px, 1px);height: 1px;margin: -1px;overflow: hidden;padding: 0;position: absolute;width: 1px;}#sk-container-id-1 div.sk-estimator {font-family: monospace;background-color: #f0f8ff;border: 1px dotted black;border-radius: 0.25em;box-sizing: border-box;margin-bottom: 0.5em;}#sk-container-id-1 div.sk-estimator:hover {background-color: #d4ebff;}#sk-container-id-1 div.sk-parallel-item::after {content: \"\";width: 100%;border-bottom: 1px solid gray;flex-grow: 1;}#sk-container-id-1 div.sk-label:hover label.sk-toggleable__label {background-color: #d4ebff;}#sk-container-id-1 div.sk-serial::before {content: \"\";position: absolute;border-left: 1px solid gray;box-sizing: border-box;top: 0;bottom: 0;left: 50%;z-index: 0;}#sk-container-id-1 div.sk-serial {display: flex;flex-direction: column;align-items: center;background-color: white;padding-right: 0.2em;padding-left: 0.2em;position: relative;}#sk-container-id-1 div.sk-item {position: relative;z-index: 1;}#sk-container-id-1 div.sk-parallel {display: flex;align-items: stretch;justify-content: center;background-color: white;position: relative;}#sk-container-id-1 div.sk-item::before, #sk-container-id-1 div.sk-parallel-item::before {content: \"\";position: absolute;border-left: 1px solid gray;box-sizing: border-box;top: 0;bottom: 0;left: 50%;z-index: -1;}#sk-container-id-1 div.sk-parallel-item {display: flex;flex-direction: column;z-index: 1;position: relative;background-color: white;}#sk-container-id-1 div.sk-parallel-item:first-child::after {align-self: flex-end;width: 50%;}#sk-container-id-1 div.sk-parallel-item:last-child::after {align-self: flex-start;width: 50%;}#sk-container-id-1 div.sk-parallel-item:only-child::after {width: 0;}#sk-container-id-1 div.sk-dashed-wrapped {border: 1px dashed gray;margin: 0 0.4em 0.5em 0.4em;box-sizing: border-box;padding-bottom: 0.4em;background-color: white;}#sk-container-id-1 div.sk-label label {font-family: monospace;font-weight: bold;display: inline-block;line-height: 1.2em;}#sk-container-id-1 div.sk-label-container {text-align: center;}#sk-container-id-1 div.sk-container {/* jupyter's `normalize.less` sets `[hidden] { display: none; }` but bootstrap.min.css set `[hidden] { display: none !important; }` so we also need the `!important` here to be able to override the default hidden behavior on the sphinx rendered scikit-learn.org. See: https://github.com/scikit-learn/scikit-learn/issues/21755 */display: inline-block !important;position: relative;}#sk-container-id-1 div.sk-text-repr-fallback {display: none;}</style><div id=\"sk-container-id-1\" class=\"sk-top-container\"><div class=\"sk-text-repr-fallback\"><pre>LinearRegression()</pre><b>In a Jupyter environment, please rerun this cell to show the HTML representation or trust the notebook. <br />On GitHub, the HTML representation is unable to render, please try loading this page with nbviewer.org.</b></div><div class=\"sk-container\" hidden><div class=\"sk-item\"><div class=\"sk-estimator sk-toggleable\"><input class=\"sk-toggleable__control sk-hidden--visually\" id=\"sk-estimator-id-1\" type=\"checkbox\" checked><label for=\"sk-estimator-id-1\" class=\"sk-toggleable__label sk-toggleable__label-arrow\">LinearRegression</label><div class=\"sk-toggleable__content\"><pre>LinearRegression()</pre></div></div></div></div></div>"
      ],
      "text/plain": [
       "LinearRegression()"
      ]
     },
     "execution_count": 8,
     "metadata": {},
     "output_type": "execute_result"
    }
   ],
   "source": [
    "model.fit(x_train,y_train)"
   ]
  },
  {
   "cell_type": "code",
   "execution_count": 9,
   "id": "ccee6a29",
   "metadata": {},
   "outputs": [],
   "source": [
    "predicted=model.predict(x_test)"
   ]
  },
  {
   "cell_type": "code",
   "execution_count": 10,
   "id": "93faf807",
   "metadata": {},
   "outputs": [
    {
     "ename": "SyntaxError",
     "evalue": "invalid syntax (3926518606.py, line 1)",
     "output_type": "error",
     "traceback": [
      "\u001b[1;36m  Cell \u001b[1;32mIn[10], line 1\u001b[1;36m\u001b[0m\n\u001b[1;33m    accuracy_score=\u001b[0m\n\u001b[1;37m                   ^\u001b[0m\n\u001b[1;31mSyntaxError\u001b[0m\u001b[1;31m:\u001b[0m invalid syntax\n"
     ]
    }
   ],
   "source": [
    "accuracy_score="
   ]
  },
  {
   "cell_type": "code",
   "execution_count": 11,
   "id": "03502a6e",
   "metadata": {
    "scrolled": true
   },
   "outputs": [
    {
     "data": {
      "text/plain": [
       "array([[76.94327594],\n",
       "       [20.90651855],\n",
       "       [21.90717494],\n",
       "       [19.90586217],\n",
       "       [35.91636428],\n",
       "       [14.90258026],\n",
       "       [61.93343021],\n",
       "       [94.95509081],\n",
       "       [19.90586217],\n",
       "       [ 4.89601644],\n",
       "       [ 3.89536006],\n",
       "       [18.90520579],\n",
       "       [95.95574719],\n",
       "       [61.93343021],\n",
       "       [35.91636428],\n",
       "       [14.90258026],\n",
       "       [64.93539936],\n",
       "       [13.90192388],\n",
       "       [86.94983976],\n",
       "       [68.93802488],\n",
       "       [88.95115252],\n",
       "       [50.92621001],\n",
       "       [88.95115252],\n",
       "       [26.91045685],\n",
       "       [96.95640358],\n",
       "       [57.93080468],\n",
       "       [78.9445887 ],\n",
       "       [20.90651855],\n",
       "       [92.95377805],\n",
       "       [26.91045685],\n",
       "       [98.95771634],\n",
       "       [30.91308237],\n",
       "       [32.91439514],\n",
       "       [79.94524508],\n",
       "       [27.91111323],\n",
       "       [46.92358448],\n",
       "       [52.92752277],\n",
       "       [68.93802488],\n",
       "       [27.91111323],\n",
       "       [32.91439514],\n",
       "       [90.95246528],\n",
       "       [70.93933765],\n",
       "       [49.92555363],\n",
       "       [75.94261956],\n",
       "       [ 3.89536006],\n",
       "       [36.91702066],\n",
       "       [69.93868127],\n",
       "       [67.9373685 ],\n",
       "       [39.91898981],\n",
       "       [34.9157079 ],\n",
       "       [93.95443443],\n",
       "       [87.95049614],\n",
       "       [51.92686639],\n",
       "       [30.91308237],\n",
       "       [58.93146107],\n",
       "       [-0.10726546],\n",
       "       [38.91833343],\n",
       "       [63.93474297],\n",
       "       [68.93802488],\n",
       "       [56.9301483 ],\n",
       "       [12.9012675 ],\n",
       "       [71.93999403],\n",
       "       [75.94261956],\n",
       "       [60.93277383],\n",
       "       [81.94655785],\n",
       "       [17.90454941],\n",
       "       [40.91964619],\n",
       "       [49.92555363],\n",
       "       [54.92883554],\n",
       "       [12.9012675 ],\n",
       "       [45.9229281 ],\n",
       "       [12.9012675 ],\n",
       "       [78.9445887 ],\n",
       "       [52.92752277],\n",
       "       [14.90258026],\n",
       "       [27.91111323],\n",
       "       [80.94590147],\n",
       "       [68.93802488],\n",
       "       [51.92686639],\n",
       "       [83.94787061],\n",
       "       [67.9373685 ],\n",
       "       [26.91045685],\n",
       "       [55.92949192],\n",
       "       [47.92424086],\n",
       "       [39.91898981],\n",
       "       [38.91833343],\n",
       "       [81.94655785],\n",
       "       [99.95837272],\n",
       "       [58.93146107],\n",
       "       [42.92095896],\n",
       "       [66.93671212],\n",
       "       [37.91767705],\n",
       "       [62.93408659],\n",
       "       [90.95246528],\n",
       "       [59.93211745],\n",
       "       [13.90192388],\n",
       "       [20.90651855],\n",
       "       [86.94983976],\n",
       "       [72.94065041],\n",
       "       [31.91373876],\n",
       "       [ 1.8940473 ],\n",
       "       [81.94655785],\n",
       "       [18.90520579],\n",
       "       [73.94130679],\n",
       "       [41.92030257],\n",
       "       [11.90061112],\n",
       "       [ 0.89339092],\n",
       "       [89.9518089 ],\n",
       "       [88.95115252],\n",
       "       [-0.10726546],\n",
       "       [40.91964619],\n",
       "       [15.90323665],\n",
       "       [93.95443443],\n",
       "       [96.95640358],\n",
       "       [65.93605574],\n",
       "       [23.9084877 ],\n",
       "       [16.90389303],\n",
       "       [89.9518089 ],\n",
       "       [12.9012675 ],\n",
       "       [-0.10726546],\n",
       "       [63.93474297],\n",
       "       [95.95574719],\n",
       "       [97.95705996],\n",
       "       [11.90061112],\n",
       "       [40.91964619],\n",
       "       [46.92358448],\n",
       "       [77.94393232],\n",
       "       [19.90586217],\n",
       "       [88.95115252],\n",
       "       [28.91176961],\n",
       "       [63.93474297],\n",
       "       [74.94196317],\n",
       "       [11.90061112],\n",
       "       [24.90914408],\n",
       "       [27.91111323],\n",
       "       [29.91242599],\n",
       "       [64.93539936],\n",
       "       [58.93146107],\n",
       "       [63.93474297],\n",
       "       [52.92752277],\n",
       "       [70.93933765],\n",
       "       [96.95640358],\n",
       "       [72.94065041],\n",
       "       [ 8.89864197],\n",
       "       [11.90061112],\n",
       "       [62.93408659],\n",
       "       [98.95771634],\n",
       "       [59.93211745],\n",
       "       [34.9157079 ],\n",
       "       [ 1.8940473 ],\n",
       "       [59.93211745],\n",
       "       [31.91373876],\n",
       "       [93.95443443],\n",
       "       [83.94787061],\n",
       "       [62.93408659],\n",
       "       [21.90717494],\n",
       "       [80.94590147],\n",
       "       [92.95377805],\n",
       "       [32.91439514],\n",
       "       [ 6.89732921],\n",
       "       [41.92030257],\n",
       "       [45.9229281 ],\n",
       "       [53.92817916],\n",
       "       [15.90323665],\n",
       "       [48.92489725],\n",
       "       [42.92095896],\n",
       "       [94.95509081],\n",
       "       [65.93605574],\n",
       "       [20.90651855],\n",
       "       [34.9157079 ],\n",
       "       [79.94524508],\n",
       "       [36.91702066],\n",
       "       [53.92817916],\n",
       "       [55.92949192],\n",
       "       [ 0.89339092],\n",
       "       [31.91373876],\n",
       "       [57.93080468],\n",
       "       [31.91373876],\n",
       "       [45.9229281 ],\n",
       "       [71.93999403],\n",
       "       [16.90389303],\n",
       "       [96.95640358],\n",
       "       [92.95377805],\n",
       "       [90.95246528],\n",
       "       [36.91702066],\n",
       "       [ 3.89536006],\n",
       "       [53.92817916],\n",
       "       [50.92621001],\n",
       "       [26.91045685],\n",
       "       [45.9229281 ],\n",
       "       [91.95312167],\n",
       "       [72.94065041],\n",
       "       [76.94327594],\n",
       "       [90.95246528],\n",
       "       [60.93277383],\n",
       "       [98.95771634],\n",
       "       [ 3.89536006],\n",
       "       [71.93999403],\n",
       "       [18.90520579],\n",
       "       [56.9301483 ],\n",
       "       [77.94393232],\n",
       "       [25.90980046],\n",
       "       [73.94130679],\n",
       "       [89.9518089 ],\n",
       "       [65.93605574],\n",
       "       [12.9012675 ],\n",
       "       [39.91898981],\n",
       "       [76.94327594],\n",
       "       [66.93671212],\n",
       "       [74.94196317],\n",
       "       [22.90783132],\n",
       "       [44.92227172],\n",
       "       [58.93146107],\n",
       "       [43.92161534],\n",
       "       [22.90783132],\n",
       "       [54.92883554],\n",
       "       [54.92883554],\n",
       "       [94.95509081],\n",
       "       [11.90061112],\n",
       "       [ 3.89536006],\n",
       "       [ 6.89732921],\n",
       "       [99.95837272],\n",
       "       [47.92424086],\n",
       "       [41.92030257],\n",
       "       [95.95574719],\n",
       "       [38.91833343],\n",
       "       [99.95837272],\n",
       "       [86.94983976],\n",
       "       [13.90192388],\n",
       "       [13.90192388],\n",
       "       [36.91702066],\n",
       "       [ 4.89601644],\n",
       "       [87.95049614],\n",
       "       [90.95246528],\n",
       "       [64.93539936],\n",
       "       [73.94130679],\n",
       "       [55.92949192],\n",
       "       [15.90323665],\n",
       "       [ 4.89601644],\n",
       "       [27.91111323],\n",
       "       [91.95312167],\n",
       "       [45.9229281 ],\n",
       "       [53.92817916],\n",
       "       [38.91833343],\n",
       "       [43.92161534],\n",
       "       [30.91308237],\n",
       "       [67.9373685 ],\n",
       "       [85.94918338],\n",
       "       [89.9518089 ],\n",
       "       [37.91767705],\n",
       "       [20.90651855],\n",
       "       [94.95509081],\n",
       "       [55.92949192],\n",
       "       [59.93211745],\n",
       "       [64.93539936],\n",
       "       [77.94393232],\n",
       "       [88.95115252],\n",
       "       [ 5.89667283],\n",
       "       [66.93671212],\n",
       "       [35.91636428],\n",
       "       [15.90323665],\n",
       "       [99.95837272],\n",
       "       [44.92227172],\n",
       "       [72.94065041],\n",
       "       [56.9301483 ],\n",
       "       [19.90586217],\n",
       "       [75.94261956],\n",
       "       [33.91505152],\n",
       "       [54.92883554],\n",
       "       [71.93999403],\n",
       "       [54.92883554],\n",
       "       [ 7.89798559],\n",
       "       [55.92949192],\n",
       "       [71.93999403],\n",
       "       [57.93080468],\n",
       "       [ 5.89667283],\n",
       "       [95.95574719],\n",
       "       [22.90783132],\n",
       "       [57.93080468],\n",
       "       [22.90783132],\n",
       "       [18.90520579],\n",
       "       [24.90914408],\n",
       "       [63.93474297],\n",
       "       [20.90651855],\n",
       "       [58.93146107],\n",
       "       [18.90520579],\n",
       "       [15.90323665],\n",
       "       [41.92030257],\n",
       "       [42.92095896],\n",
       "       [60.93277383],\n",
       "       [91.95312167],\n",
       "       [10.89995474],\n",
       "       [40.91964619],\n",
       "       [ 0.89339092],\n",
       "       [ 7.89798559],\n",
       "       [70.93933765],\n",
       "       [45.9229281 ],\n",
       "       [54.92883554],\n",
       "       [61.93343021],\n",
       "       [46.92358448]])"
      ]
     },
     "execution_count": 11,
     "metadata": {},
     "output_type": "execute_result"
    }
   ],
   "source": [
    "predicted\n"
   ]
  },
  {
   "cell_type": "code",
   "execution_count": 12,
   "id": "b87df883",
   "metadata": {
    "scrolled": true
   },
   "outputs": [
    {
     "name": "stdout",
     "output_type": "stream",
     "text": [
      "Mean Squared Error (MSE): 9.43292219203931\n",
      "Root Mean Squared Error (RMSE): 3.071306268029828\n",
      "R-squared Score: 0.9888014444327563\n"
     ]
    }
   ],
   "source": [
    "from sklearn.metrics import mean_squared_error, r2_score\n",
    "\n",
    "\n",
    "mse = mean_squared_error(y_test, predicted)\n",
    "\n",
    "rmse = np.sqrt(mse)\n",
    "\n",
    "r2 = r2_score(y_test, predicted)\n",
    "\n",
    "print(f'Mean Squared Error (MSE): {mse}')\n",
    "print(f'Root Mean Squared Error (RMSE): {rmse}')\n",
    "print(f'R-squared Score: {r2}')\n"
   ]
  },
  {
   "cell_type": "code",
   "execution_count": 20,
   "id": "3a8bc1f7",
   "metadata": {},
   "outputs": [
    {
     "data": {
      "image/png": "[encoded data removed]",
      "text/plain": [
       "<Figure size 640x480 with 1 Axes>"
      ]
     },
     "metadata": {},
     "output_type": "display_data"
    }
   ],
   "source": [
    "\n",
    "plt.scatter(x_train, y_train, color='green', label='Train Data')\n",
    "plt.scatter(x_test, y_test, color='blue', label='Test Data')\n",
    "\n",
    "plt.plot(x_test, predicted, color='black', label='Regression Line')\n",
    "\n",
    "plt.xlabel('X')\n",
    "plt.ylabel('y')\n",
    "plt.title('Linear Regression ')\n",
    "plt.legend()\n",
    "\n",
    "plt.show()"
   ]
  },
  {
   "cell_type": "code",
   "execution_count": null,
   "id": "497b7319",
   "metadata": {},
   "outputs": [],
   "source": []
  }
 ],
 "metadata": {
  "kernelspec": {
   "display_name": "Python 3 (ipykernel)",
   "language": "python",
   "name": "python3"
  },
  "language_info": {
   "codemirror_mode": {
    "name": "ipython",
    "version": 3
   },
   "file_extension": ".py",
   "mimetype": "text/x-python",
   "name": "python",
   "nbconvert_exporter": "python",
   "pygments_lexer": "ipython3",
   "version": "3.10.9"
  }
 },
 "nbformat": 4,
 "nbformat_minor": 5
}
